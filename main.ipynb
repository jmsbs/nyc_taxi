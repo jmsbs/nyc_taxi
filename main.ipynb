{
 "cells": [
  {
   "cell_type": "markdown",
   "source": [
    "## Import\n"
   ],
   "metadata": {
    "collapsed": false
   },
   "id": "83a5ec0b8a38c484"
  },
  {
   "cell_type": "code",
   "execution_count": 2,
   "id": "initial_id",
   "metadata": {
    "collapsed": true,
    "ExecuteTime": {
     "end_time": "2024-08-06T21:34:16.629107Z",
     "start_time": "2024-08-06T21:34:15.442393Z"
    }
   },
   "outputs": [],
   "source": [
    "import pandas as pd\n",
    "from sqlalchemy import create_engine, text\n",
    "import requests\n",
    "from io import StringIO\n",
    "import os\n",
    "import pyarrow.parquet as pq"
   ]
  },
  {
   "cell_type": "markdown",
   "source": [
    "## Setup"
   ],
   "metadata": {
    "collapsed": false
   },
   "id": "945f3785fd6069e8"
  },
  {
   "cell_type": "code",
   "outputs": [],
   "source": [
    "# # Connection string\n",
    "# connection_string = 'sqlite:///your_database.db'  # Replace with your actual connection string\n",
    "# \n",
    "# # Create SQLAlchemy engine\n",
    "# engine = create_engine(connection_string)"
   ],
   "metadata": {
    "collapsed": false,
    "ExecuteTime": {
     "end_time": "2024-08-05T22:38:43.530916Z",
     "start_time": "2024-08-05T22:38:43.529331Z"
    }
   },
   "id": "4c2940e232209aa2",
   "execution_count": 2
  },
  {
   "cell_type": "markdown",
   "source": [
    "### Connecting to Mysql DB\n"
   ],
   "metadata": {
    "collapsed": false
   },
   "id": "407ae321c3c01816"
  },
  {
   "cell_type": "code",
   "outputs": [],
   "source": [
    "DATABASE_URL = \"mysql+pymysql://root:a@localhost/p_taxi\"\n",
    "engine = create_engine(DATABASE_URL)"
   ],
   "metadata": {
    "collapsed": false,
    "ExecuteTime": {
     "end_time": "2024-08-06T21:34:16.919450Z",
     "start_time": "2024-08-06T21:34:16.868021Z"
    }
   },
   "id": "3e6bf52450bde422",
   "execution_count": 3
  },
  {
   "cell_type": "markdown",
   "source": [
    "### Create Table"
   ],
   "metadata": {
    "collapsed": false
   },
   "id": "f232eed2a36c1347"
  },
  {
   "cell_type": "code",
   "outputs": [
    {
     "ename": "ProgrammingError",
     "evalue": "(pymysql.err.ProgrammingError) (1064, \"You have an error in your SQL syntax; check the manual that corresponds to your MySQL server version for the right syntax to use near 'CREATE TABLE IF NOT EXISTS location_table (\\n    locationID INTEGER AUTO_INCREMEN' at line 26\")\n[SQL: CREATE TABLE IF NOT EXISTS raw_table (\n    tripID INTEGER AUTO_INCREMENT PRIMARY KEY,\n    VendorID INTEGER,\n    create_time DATETIME DEFAULT CURRENT_TIMESTAMP,\n    tpep_pickup_datetime DATETIME,\n    tpep_dropoff_datetime DATETIME,\n    passenger_count INTEGER,\n    trip_distance FLOAT,\n    RateCodeID INTEGER,\n    store_and_fwd_flag TEXT,\n    payment_type INTEGER,\n    PULocationID INTEGER,\n    DOLocationID INTEGER,\n    fare_amount FLOAT,\n    extra FLOAT,\n    mta_tax FLOAT,\n    tip_amount FLOAT,\n    tolls_amount FLOAT,\n    improvement_surcharge FLOAT,\n    total_amount FLOAT,\n    trip_duration_min FLOAT,\n    congestion_surcharge FLOAT,\n    Airport_fee FLOAT\n);\n\nCREATE TABLE IF NOT EXISTS location_table (\n    locationID INTEGER AUTO_INCREMENT PRIMARY KEY,\n    location_name TEXT,\n    borough TEXT,\n    zone TEXT\n);\n]\n(Background on this error at: https://sqlalche.me/e/14/f405)",
     "output_type": "error",
     "traceback": [
      "\u001B[0;31m---------------------------------------------------------------------------\u001B[0m",
      "\u001B[0;31mProgrammingError\u001B[0m                          Traceback (most recent call last)",
      "File \u001B[0;32m/opt/anaconda3/lib/python3.11/site-packages/sqlalchemy/engine/base.py:1910\u001B[0m, in \u001B[0;36mConnection._execute_context\u001B[0;34m(self, dialect, constructor, statement, parameters, execution_options, *args, **kw)\u001B[0m\n\u001B[1;32m   1909\u001B[0m     \u001B[38;5;28;01mif\u001B[39;00m \u001B[38;5;129;01mnot\u001B[39;00m evt_handled:\n\u001B[0;32m-> 1910\u001B[0m         \u001B[38;5;28mself\u001B[39m\u001B[38;5;241m.\u001B[39mdialect\u001B[38;5;241m.\u001B[39mdo_execute(\n\u001B[1;32m   1911\u001B[0m             cursor, statement, parameters, context\n\u001B[1;32m   1912\u001B[0m         )\n\u001B[1;32m   1914\u001B[0m \u001B[38;5;28;01mif\u001B[39;00m \u001B[38;5;28mself\u001B[39m\u001B[38;5;241m.\u001B[39m_has_events \u001B[38;5;129;01mor\u001B[39;00m \u001B[38;5;28mself\u001B[39m\u001B[38;5;241m.\u001B[39mengine\u001B[38;5;241m.\u001B[39m_has_events:\n",
      "File \u001B[0;32m/opt/anaconda3/lib/python3.11/site-packages/sqlalchemy/engine/default.py:736\u001B[0m, in \u001B[0;36mDefaultDialect.do_execute\u001B[0;34m(self, cursor, statement, parameters, context)\u001B[0m\n\u001B[1;32m    735\u001B[0m \u001B[38;5;28;01mdef\u001B[39;00m \u001B[38;5;21mdo_execute\u001B[39m(\u001B[38;5;28mself\u001B[39m, cursor, statement, parameters, context\u001B[38;5;241m=\u001B[39m\u001B[38;5;28;01mNone\u001B[39;00m):\n\u001B[0;32m--> 736\u001B[0m     cursor\u001B[38;5;241m.\u001B[39mexecute(statement, parameters)\n",
      "File \u001B[0;32m/opt/anaconda3/lib/python3.11/site-packages/pymysql/cursors.py:153\u001B[0m, in \u001B[0;36mCursor.execute\u001B[0;34m(self, query, args)\u001B[0m\n\u001B[1;32m    151\u001B[0m query \u001B[38;5;241m=\u001B[39m \u001B[38;5;28mself\u001B[39m\u001B[38;5;241m.\u001B[39mmogrify(query, args)\n\u001B[0;32m--> 153\u001B[0m result \u001B[38;5;241m=\u001B[39m \u001B[38;5;28mself\u001B[39m\u001B[38;5;241m.\u001B[39m_query(query)\n\u001B[1;32m    154\u001B[0m \u001B[38;5;28mself\u001B[39m\u001B[38;5;241m.\u001B[39m_executed \u001B[38;5;241m=\u001B[39m query\n",
      "File \u001B[0;32m/opt/anaconda3/lib/python3.11/site-packages/pymysql/cursors.py:322\u001B[0m, in \u001B[0;36mCursor._query\u001B[0;34m(self, q)\u001B[0m\n\u001B[1;32m    321\u001B[0m \u001B[38;5;28mself\u001B[39m\u001B[38;5;241m.\u001B[39m_clear_result()\n\u001B[0;32m--> 322\u001B[0m conn\u001B[38;5;241m.\u001B[39mquery(q)\n\u001B[1;32m    323\u001B[0m \u001B[38;5;28mself\u001B[39m\u001B[38;5;241m.\u001B[39m_do_get_result()\n",
      "File \u001B[0;32m/opt/anaconda3/lib/python3.11/site-packages/pymysql/connections.py:563\u001B[0m, in \u001B[0;36mConnection.query\u001B[0;34m(self, sql, unbuffered)\u001B[0m\n\u001B[1;32m    562\u001B[0m \u001B[38;5;28mself\u001B[39m\u001B[38;5;241m.\u001B[39m_execute_command(COMMAND\u001B[38;5;241m.\u001B[39mCOM_QUERY, sql)\n\u001B[0;32m--> 563\u001B[0m \u001B[38;5;28mself\u001B[39m\u001B[38;5;241m.\u001B[39m_affected_rows \u001B[38;5;241m=\u001B[39m \u001B[38;5;28mself\u001B[39m\u001B[38;5;241m.\u001B[39m_read_query_result(unbuffered\u001B[38;5;241m=\u001B[39munbuffered)\n\u001B[1;32m    564\u001B[0m \u001B[38;5;28;01mreturn\u001B[39;00m \u001B[38;5;28mself\u001B[39m\u001B[38;5;241m.\u001B[39m_affected_rows\n",
      "File \u001B[0;32m/opt/anaconda3/lib/python3.11/site-packages/pymysql/connections.py:825\u001B[0m, in \u001B[0;36mConnection._read_query_result\u001B[0;34m(self, unbuffered)\u001B[0m\n\u001B[1;32m    824\u001B[0m     result \u001B[38;5;241m=\u001B[39m MySQLResult(\u001B[38;5;28mself\u001B[39m)\n\u001B[0;32m--> 825\u001B[0m     result\u001B[38;5;241m.\u001B[39mread()\n\u001B[1;32m    826\u001B[0m \u001B[38;5;28mself\u001B[39m\u001B[38;5;241m.\u001B[39m_result \u001B[38;5;241m=\u001B[39m result\n",
      "File \u001B[0;32m/opt/anaconda3/lib/python3.11/site-packages/pymysql/connections.py:1199\u001B[0m, in \u001B[0;36mMySQLResult.read\u001B[0;34m(self)\u001B[0m\n\u001B[1;32m   1198\u001B[0m \u001B[38;5;28;01mtry\u001B[39;00m:\n\u001B[0;32m-> 1199\u001B[0m     first_packet \u001B[38;5;241m=\u001B[39m \u001B[38;5;28mself\u001B[39m\u001B[38;5;241m.\u001B[39mconnection\u001B[38;5;241m.\u001B[39m_read_packet()\n\u001B[1;32m   1201\u001B[0m     \u001B[38;5;28;01mif\u001B[39;00m first_packet\u001B[38;5;241m.\u001B[39mis_ok_packet():\n",
      "File \u001B[0;32m/opt/anaconda3/lib/python3.11/site-packages/pymysql/connections.py:775\u001B[0m, in \u001B[0;36mConnection._read_packet\u001B[0;34m(self, packet_type)\u001B[0m\n\u001B[1;32m    774\u001B[0m         \u001B[38;5;28mself\u001B[39m\u001B[38;5;241m.\u001B[39m_result\u001B[38;5;241m.\u001B[39munbuffered_active \u001B[38;5;241m=\u001B[39m \u001B[38;5;28;01mFalse\u001B[39;00m\n\u001B[0;32m--> 775\u001B[0m     packet\u001B[38;5;241m.\u001B[39mraise_for_error()\n\u001B[1;32m    776\u001B[0m \u001B[38;5;28;01mreturn\u001B[39;00m packet\n",
      "File \u001B[0;32m/opt/anaconda3/lib/python3.11/site-packages/pymysql/protocol.py:219\u001B[0m, in \u001B[0;36mMysqlPacket.raise_for_error\u001B[0;34m(self)\u001B[0m\n\u001B[1;32m    218\u001B[0m     \u001B[38;5;28mprint\u001B[39m(\u001B[38;5;124m\"\u001B[39m\u001B[38;5;124merrno =\u001B[39m\u001B[38;5;124m\"\u001B[39m, errno)\n\u001B[0;32m--> 219\u001B[0m err\u001B[38;5;241m.\u001B[39mraise_mysql_exception(\u001B[38;5;28mself\u001B[39m\u001B[38;5;241m.\u001B[39m_data)\n",
      "File \u001B[0;32m/opt/anaconda3/lib/python3.11/site-packages/pymysql/err.py:150\u001B[0m, in \u001B[0;36mraise_mysql_exception\u001B[0;34m(data)\u001B[0m\n\u001B[1;32m    149\u001B[0m     errorclass \u001B[38;5;241m=\u001B[39m InternalError \u001B[38;5;28;01mif\u001B[39;00m errno \u001B[38;5;241m<\u001B[39m \u001B[38;5;241m1000\u001B[39m \u001B[38;5;28;01melse\u001B[39;00m OperationalError\n\u001B[0;32m--> 150\u001B[0m \u001B[38;5;28;01mraise\u001B[39;00m errorclass(errno, errval)\n",
      "\u001B[0;31mProgrammingError\u001B[0m: (1064, \"You have an error in your SQL syntax; check the manual that corresponds to your MySQL server version for the right syntax to use near 'CREATE TABLE IF NOT EXISTS location_table (\\n    locationID INTEGER AUTO_INCREMEN' at line 26\")",
      "\nThe above exception was the direct cause of the following exception:\n",
      "\u001B[0;31mProgrammingError\u001B[0m                          Traceback (most recent call last)",
      "Cell \u001B[0;32mIn[6], line 4\u001B[0m\n\u001B[1;32m      2\u001B[0m \u001B[38;5;28;01mwith\u001B[39;00m \u001B[38;5;28mopen\u001B[39m(\u001B[38;5;124m'\u001B[39m\u001B[38;5;124mcreate_table.sql\u001B[39m\u001B[38;5;124m'\u001B[39m, \u001B[38;5;124m'\u001B[39m\u001B[38;5;124mr\u001B[39m\u001B[38;5;124m'\u001B[39m) \u001B[38;5;28;01mas\u001B[39;00m file:\n\u001B[1;32m      3\u001B[0m     create_table_query \u001B[38;5;241m=\u001B[39m file\u001B[38;5;241m.\u001B[39mread()\n\u001B[0;32m----> 4\u001B[0m connection\u001B[38;5;241m.\u001B[39mexecute(text(create_table_query))\n",
      "File \u001B[0;32m/opt/anaconda3/lib/python3.11/site-packages/sqlalchemy/engine/base.py:1385\u001B[0m, in \u001B[0;36mConnection.execute\u001B[0;34m(self, statement, *multiparams, **params)\u001B[0m\n\u001B[1;32m   1381\u001B[0m     util\u001B[38;5;241m.\u001B[39mraise_(\n\u001B[1;32m   1382\u001B[0m         exc\u001B[38;5;241m.\u001B[39mObjectNotExecutableError(statement), replace_context\u001B[38;5;241m=\u001B[39merr\n\u001B[1;32m   1383\u001B[0m     )\n\u001B[1;32m   1384\u001B[0m \u001B[38;5;28;01melse\u001B[39;00m:\n\u001B[0;32m-> 1385\u001B[0m     \u001B[38;5;28;01mreturn\u001B[39;00m meth(\u001B[38;5;28mself\u001B[39m, multiparams, params, _EMPTY_EXECUTION_OPTS)\n",
      "File \u001B[0;32m/opt/anaconda3/lib/python3.11/site-packages/sqlalchemy/sql/elements.py:334\u001B[0m, in \u001B[0;36mClauseElement._execute_on_connection\u001B[0;34m(self, connection, multiparams, params, execution_options, _force)\u001B[0m\n\u001B[1;32m    330\u001B[0m \u001B[38;5;28;01mdef\u001B[39;00m \u001B[38;5;21m_execute_on_connection\u001B[39m(\n\u001B[1;32m    331\u001B[0m     \u001B[38;5;28mself\u001B[39m, connection, multiparams, params, execution_options, _force\u001B[38;5;241m=\u001B[39m\u001B[38;5;28;01mFalse\u001B[39;00m\n\u001B[1;32m    332\u001B[0m ):\n\u001B[1;32m    333\u001B[0m     \u001B[38;5;28;01mif\u001B[39;00m _force \u001B[38;5;129;01mor\u001B[39;00m \u001B[38;5;28mself\u001B[39m\u001B[38;5;241m.\u001B[39msupports_execution:\n\u001B[0;32m--> 334\u001B[0m         \u001B[38;5;28;01mreturn\u001B[39;00m connection\u001B[38;5;241m.\u001B[39m_execute_clauseelement(\n\u001B[1;32m    335\u001B[0m             \u001B[38;5;28mself\u001B[39m, multiparams, params, execution_options\n\u001B[1;32m    336\u001B[0m         )\n\u001B[1;32m    337\u001B[0m     \u001B[38;5;28;01melse\u001B[39;00m:\n\u001B[1;32m    338\u001B[0m         \u001B[38;5;28;01mraise\u001B[39;00m exc\u001B[38;5;241m.\u001B[39mObjectNotExecutableError(\u001B[38;5;28mself\u001B[39m)\n",
      "File \u001B[0;32m/opt/anaconda3/lib/python3.11/site-packages/sqlalchemy/engine/base.py:1577\u001B[0m, in \u001B[0;36mConnection._execute_clauseelement\u001B[0;34m(self, elem, multiparams, params, execution_options)\u001B[0m\n\u001B[1;32m   1565\u001B[0m compiled_cache \u001B[38;5;241m=\u001B[39m execution_options\u001B[38;5;241m.\u001B[39mget(\n\u001B[1;32m   1566\u001B[0m     \u001B[38;5;124m\"\u001B[39m\u001B[38;5;124mcompiled_cache\u001B[39m\u001B[38;5;124m\"\u001B[39m, \u001B[38;5;28mself\u001B[39m\u001B[38;5;241m.\u001B[39mengine\u001B[38;5;241m.\u001B[39m_compiled_cache\n\u001B[1;32m   1567\u001B[0m )\n\u001B[1;32m   1569\u001B[0m compiled_sql, extracted_params, cache_hit \u001B[38;5;241m=\u001B[39m elem\u001B[38;5;241m.\u001B[39m_compile_w_cache(\n\u001B[1;32m   1570\u001B[0m     dialect\u001B[38;5;241m=\u001B[39mdialect,\n\u001B[1;32m   1571\u001B[0m     compiled_cache\u001B[38;5;241m=\u001B[39mcompiled_cache,\n\u001B[0;32m   (...)\u001B[0m\n\u001B[1;32m   1575\u001B[0m     linting\u001B[38;5;241m=\u001B[39m\u001B[38;5;28mself\u001B[39m\u001B[38;5;241m.\u001B[39mdialect\u001B[38;5;241m.\u001B[39mcompiler_linting \u001B[38;5;241m|\u001B[39m compiler\u001B[38;5;241m.\u001B[39mWARN_LINTING,\n\u001B[1;32m   1576\u001B[0m )\n\u001B[0;32m-> 1577\u001B[0m ret \u001B[38;5;241m=\u001B[39m \u001B[38;5;28mself\u001B[39m\u001B[38;5;241m.\u001B[39m_execute_context(\n\u001B[1;32m   1578\u001B[0m     dialect,\n\u001B[1;32m   1579\u001B[0m     dialect\u001B[38;5;241m.\u001B[39mexecution_ctx_cls\u001B[38;5;241m.\u001B[39m_init_compiled,\n\u001B[1;32m   1580\u001B[0m     compiled_sql,\n\u001B[1;32m   1581\u001B[0m     distilled_params,\n\u001B[1;32m   1582\u001B[0m     execution_options,\n\u001B[1;32m   1583\u001B[0m     compiled_sql,\n\u001B[1;32m   1584\u001B[0m     distilled_params,\n\u001B[1;32m   1585\u001B[0m     elem,\n\u001B[1;32m   1586\u001B[0m     extracted_params,\n\u001B[1;32m   1587\u001B[0m     cache_hit\u001B[38;5;241m=\u001B[39mcache_hit,\n\u001B[1;32m   1588\u001B[0m )\n\u001B[1;32m   1589\u001B[0m \u001B[38;5;28;01mif\u001B[39;00m has_events:\n\u001B[1;32m   1590\u001B[0m     \u001B[38;5;28mself\u001B[39m\u001B[38;5;241m.\u001B[39mdispatch\u001B[38;5;241m.\u001B[39mafter_execute(\n\u001B[1;32m   1591\u001B[0m         \u001B[38;5;28mself\u001B[39m,\n\u001B[1;32m   1592\u001B[0m         elem,\n\u001B[0;32m   (...)\u001B[0m\n\u001B[1;32m   1596\u001B[0m         ret,\n\u001B[1;32m   1597\u001B[0m     )\n",
      "File \u001B[0;32m/opt/anaconda3/lib/python3.11/site-packages/sqlalchemy/engine/base.py:1953\u001B[0m, in \u001B[0;36mConnection._execute_context\u001B[0;34m(self, dialect, constructor, statement, parameters, execution_options, *args, **kw)\u001B[0m\n\u001B[1;32m   1950\u001B[0m             branched\u001B[38;5;241m.\u001B[39mclose()\n\u001B[1;32m   1952\u001B[0m \u001B[38;5;28;01mexcept\u001B[39;00m \u001B[38;5;167;01mBaseException\u001B[39;00m \u001B[38;5;28;01mas\u001B[39;00m e:\n\u001B[0;32m-> 1953\u001B[0m     \u001B[38;5;28mself\u001B[39m\u001B[38;5;241m.\u001B[39m_handle_dbapi_exception(\n\u001B[1;32m   1954\u001B[0m         e, statement, parameters, cursor, context\n\u001B[1;32m   1955\u001B[0m     )\n\u001B[1;32m   1957\u001B[0m \u001B[38;5;28;01mreturn\u001B[39;00m result\n",
      "File \u001B[0;32m/opt/anaconda3/lib/python3.11/site-packages/sqlalchemy/engine/base.py:2134\u001B[0m, in \u001B[0;36mConnection._handle_dbapi_exception\u001B[0;34m(self, e, statement, parameters, cursor, context)\u001B[0m\n\u001B[1;32m   2132\u001B[0m     util\u001B[38;5;241m.\u001B[39mraise_(newraise, with_traceback\u001B[38;5;241m=\u001B[39mexc_info[\u001B[38;5;241m2\u001B[39m], from_\u001B[38;5;241m=\u001B[39me)\n\u001B[1;32m   2133\u001B[0m \u001B[38;5;28;01melif\u001B[39;00m should_wrap:\n\u001B[0;32m-> 2134\u001B[0m     util\u001B[38;5;241m.\u001B[39mraise_(\n\u001B[1;32m   2135\u001B[0m         sqlalchemy_exception, with_traceback\u001B[38;5;241m=\u001B[39mexc_info[\u001B[38;5;241m2\u001B[39m], from_\u001B[38;5;241m=\u001B[39me\n\u001B[1;32m   2136\u001B[0m     )\n\u001B[1;32m   2137\u001B[0m \u001B[38;5;28;01melse\u001B[39;00m:\n\u001B[1;32m   2138\u001B[0m     util\u001B[38;5;241m.\u001B[39mraise_(exc_info[\u001B[38;5;241m1\u001B[39m], with_traceback\u001B[38;5;241m=\u001B[39mexc_info[\u001B[38;5;241m2\u001B[39m])\n",
      "File \u001B[0;32m/opt/anaconda3/lib/python3.11/site-packages/sqlalchemy/util/compat.py:211\u001B[0m, in \u001B[0;36mraise_\u001B[0;34m(***failed resolving arguments***)\u001B[0m\n\u001B[1;32m    208\u001B[0m     exception\u001B[38;5;241m.\u001B[39m__cause__ \u001B[38;5;241m=\u001B[39m replace_context\n\u001B[1;32m    210\u001B[0m \u001B[38;5;28;01mtry\u001B[39;00m:\n\u001B[0;32m--> 211\u001B[0m     \u001B[38;5;28;01mraise\u001B[39;00m exception\n\u001B[1;32m    212\u001B[0m \u001B[38;5;28;01mfinally\u001B[39;00m:\n\u001B[1;32m    213\u001B[0m     \u001B[38;5;66;03m# credit to\u001B[39;00m\n\u001B[1;32m    214\u001B[0m     \u001B[38;5;66;03m# https://cosmicpercolator.com/2016/01/13/exception-leaks-in-python-2-and-3/\u001B[39;00m\n\u001B[1;32m    215\u001B[0m     \u001B[38;5;66;03m# as the __traceback__ object creates a cycle\u001B[39;00m\n\u001B[1;32m    216\u001B[0m     \u001B[38;5;28;01mdel\u001B[39;00m exception, replace_context, from_, with_traceback\n",
      "File \u001B[0;32m/opt/anaconda3/lib/python3.11/site-packages/sqlalchemy/engine/base.py:1910\u001B[0m, in \u001B[0;36mConnection._execute_context\u001B[0;34m(self, dialect, constructor, statement, parameters, execution_options, *args, **kw)\u001B[0m\n\u001B[1;32m   1908\u001B[0m                 \u001B[38;5;28;01mbreak\u001B[39;00m\n\u001B[1;32m   1909\u001B[0m     \u001B[38;5;28;01mif\u001B[39;00m \u001B[38;5;129;01mnot\u001B[39;00m evt_handled:\n\u001B[0;32m-> 1910\u001B[0m         \u001B[38;5;28mself\u001B[39m\u001B[38;5;241m.\u001B[39mdialect\u001B[38;5;241m.\u001B[39mdo_execute(\n\u001B[1;32m   1911\u001B[0m             cursor, statement, parameters, context\n\u001B[1;32m   1912\u001B[0m         )\n\u001B[1;32m   1914\u001B[0m \u001B[38;5;28;01mif\u001B[39;00m \u001B[38;5;28mself\u001B[39m\u001B[38;5;241m.\u001B[39m_has_events \u001B[38;5;129;01mor\u001B[39;00m \u001B[38;5;28mself\u001B[39m\u001B[38;5;241m.\u001B[39mengine\u001B[38;5;241m.\u001B[39m_has_events:\n\u001B[1;32m   1915\u001B[0m     \u001B[38;5;28mself\u001B[39m\u001B[38;5;241m.\u001B[39mdispatch\u001B[38;5;241m.\u001B[39mafter_cursor_execute(\n\u001B[1;32m   1916\u001B[0m         \u001B[38;5;28mself\u001B[39m,\n\u001B[1;32m   1917\u001B[0m         cursor,\n\u001B[0;32m   (...)\u001B[0m\n\u001B[1;32m   1921\u001B[0m         context\u001B[38;5;241m.\u001B[39mexecutemany,\n\u001B[1;32m   1922\u001B[0m     )\n",
      "File \u001B[0;32m/opt/anaconda3/lib/python3.11/site-packages/sqlalchemy/engine/default.py:736\u001B[0m, in \u001B[0;36mDefaultDialect.do_execute\u001B[0;34m(self, cursor, statement, parameters, context)\u001B[0m\n\u001B[1;32m    735\u001B[0m \u001B[38;5;28;01mdef\u001B[39;00m \u001B[38;5;21mdo_execute\u001B[39m(\u001B[38;5;28mself\u001B[39m, cursor, statement, parameters, context\u001B[38;5;241m=\u001B[39m\u001B[38;5;28;01mNone\u001B[39;00m):\n\u001B[0;32m--> 736\u001B[0m     cursor\u001B[38;5;241m.\u001B[39mexecute(statement, parameters)\n",
      "File \u001B[0;32m/opt/anaconda3/lib/python3.11/site-packages/pymysql/cursors.py:153\u001B[0m, in \u001B[0;36mCursor.execute\u001B[0;34m(self, query, args)\u001B[0m\n\u001B[1;32m    149\u001B[0m     \u001B[38;5;28;01mpass\u001B[39;00m\n\u001B[1;32m    151\u001B[0m query \u001B[38;5;241m=\u001B[39m \u001B[38;5;28mself\u001B[39m\u001B[38;5;241m.\u001B[39mmogrify(query, args)\n\u001B[0;32m--> 153\u001B[0m result \u001B[38;5;241m=\u001B[39m \u001B[38;5;28mself\u001B[39m\u001B[38;5;241m.\u001B[39m_query(query)\n\u001B[1;32m    154\u001B[0m \u001B[38;5;28mself\u001B[39m\u001B[38;5;241m.\u001B[39m_executed \u001B[38;5;241m=\u001B[39m query\n\u001B[1;32m    155\u001B[0m \u001B[38;5;28;01mreturn\u001B[39;00m result\n",
      "File \u001B[0;32m/opt/anaconda3/lib/python3.11/site-packages/pymysql/cursors.py:322\u001B[0m, in \u001B[0;36mCursor._query\u001B[0;34m(self, q)\u001B[0m\n\u001B[1;32m    320\u001B[0m conn \u001B[38;5;241m=\u001B[39m \u001B[38;5;28mself\u001B[39m\u001B[38;5;241m.\u001B[39m_get_db()\n\u001B[1;32m    321\u001B[0m \u001B[38;5;28mself\u001B[39m\u001B[38;5;241m.\u001B[39m_clear_result()\n\u001B[0;32m--> 322\u001B[0m conn\u001B[38;5;241m.\u001B[39mquery(q)\n\u001B[1;32m    323\u001B[0m \u001B[38;5;28mself\u001B[39m\u001B[38;5;241m.\u001B[39m_do_get_result()\n\u001B[1;32m    324\u001B[0m \u001B[38;5;28;01mreturn\u001B[39;00m \u001B[38;5;28mself\u001B[39m\u001B[38;5;241m.\u001B[39mrowcount\n",
      "File \u001B[0;32m/opt/anaconda3/lib/python3.11/site-packages/pymysql/connections.py:563\u001B[0m, in \u001B[0;36mConnection.query\u001B[0;34m(self, sql, unbuffered)\u001B[0m\n\u001B[1;32m    561\u001B[0m     sql \u001B[38;5;241m=\u001B[39m sql\u001B[38;5;241m.\u001B[39mencode(\u001B[38;5;28mself\u001B[39m\u001B[38;5;241m.\u001B[39mencoding, \u001B[38;5;124m\"\u001B[39m\u001B[38;5;124msurrogateescape\u001B[39m\u001B[38;5;124m\"\u001B[39m)\n\u001B[1;32m    562\u001B[0m \u001B[38;5;28mself\u001B[39m\u001B[38;5;241m.\u001B[39m_execute_command(COMMAND\u001B[38;5;241m.\u001B[39mCOM_QUERY, sql)\n\u001B[0;32m--> 563\u001B[0m \u001B[38;5;28mself\u001B[39m\u001B[38;5;241m.\u001B[39m_affected_rows \u001B[38;5;241m=\u001B[39m \u001B[38;5;28mself\u001B[39m\u001B[38;5;241m.\u001B[39m_read_query_result(unbuffered\u001B[38;5;241m=\u001B[39munbuffered)\n\u001B[1;32m    564\u001B[0m \u001B[38;5;28;01mreturn\u001B[39;00m \u001B[38;5;28mself\u001B[39m\u001B[38;5;241m.\u001B[39m_affected_rows\n",
      "File \u001B[0;32m/opt/anaconda3/lib/python3.11/site-packages/pymysql/connections.py:825\u001B[0m, in \u001B[0;36mConnection._read_query_result\u001B[0;34m(self, unbuffered)\u001B[0m\n\u001B[1;32m    823\u001B[0m \u001B[38;5;28;01melse\u001B[39;00m:\n\u001B[1;32m    824\u001B[0m     result \u001B[38;5;241m=\u001B[39m MySQLResult(\u001B[38;5;28mself\u001B[39m)\n\u001B[0;32m--> 825\u001B[0m     result\u001B[38;5;241m.\u001B[39mread()\n\u001B[1;32m    826\u001B[0m \u001B[38;5;28mself\u001B[39m\u001B[38;5;241m.\u001B[39m_result \u001B[38;5;241m=\u001B[39m result\n\u001B[1;32m    827\u001B[0m \u001B[38;5;28;01mif\u001B[39;00m result\u001B[38;5;241m.\u001B[39mserver_status \u001B[38;5;129;01mis\u001B[39;00m \u001B[38;5;129;01mnot\u001B[39;00m \u001B[38;5;28;01mNone\u001B[39;00m:\n",
      "File \u001B[0;32m/opt/anaconda3/lib/python3.11/site-packages/pymysql/connections.py:1199\u001B[0m, in \u001B[0;36mMySQLResult.read\u001B[0;34m(self)\u001B[0m\n\u001B[1;32m   1197\u001B[0m \u001B[38;5;28;01mdef\u001B[39;00m \u001B[38;5;21mread\u001B[39m(\u001B[38;5;28mself\u001B[39m):\n\u001B[1;32m   1198\u001B[0m     \u001B[38;5;28;01mtry\u001B[39;00m:\n\u001B[0;32m-> 1199\u001B[0m         first_packet \u001B[38;5;241m=\u001B[39m \u001B[38;5;28mself\u001B[39m\u001B[38;5;241m.\u001B[39mconnection\u001B[38;5;241m.\u001B[39m_read_packet()\n\u001B[1;32m   1201\u001B[0m         \u001B[38;5;28;01mif\u001B[39;00m first_packet\u001B[38;5;241m.\u001B[39mis_ok_packet():\n\u001B[1;32m   1202\u001B[0m             \u001B[38;5;28mself\u001B[39m\u001B[38;5;241m.\u001B[39m_read_ok_packet(first_packet)\n",
      "File \u001B[0;32m/opt/anaconda3/lib/python3.11/site-packages/pymysql/connections.py:775\u001B[0m, in \u001B[0;36mConnection._read_packet\u001B[0;34m(self, packet_type)\u001B[0m\n\u001B[1;32m    773\u001B[0m     \u001B[38;5;28;01mif\u001B[39;00m \u001B[38;5;28mself\u001B[39m\u001B[38;5;241m.\u001B[39m_result \u001B[38;5;129;01mis\u001B[39;00m \u001B[38;5;129;01mnot\u001B[39;00m \u001B[38;5;28;01mNone\u001B[39;00m \u001B[38;5;129;01mand\u001B[39;00m \u001B[38;5;28mself\u001B[39m\u001B[38;5;241m.\u001B[39m_result\u001B[38;5;241m.\u001B[39munbuffered_active \u001B[38;5;129;01mis\u001B[39;00m \u001B[38;5;28;01mTrue\u001B[39;00m:\n\u001B[1;32m    774\u001B[0m         \u001B[38;5;28mself\u001B[39m\u001B[38;5;241m.\u001B[39m_result\u001B[38;5;241m.\u001B[39munbuffered_active \u001B[38;5;241m=\u001B[39m \u001B[38;5;28;01mFalse\u001B[39;00m\n\u001B[0;32m--> 775\u001B[0m     packet\u001B[38;5;241m.\u001B[39mraise_for_error()\n\u001B[1;32m    776\u001B[0m \u001B[38;5;28;01mreturn\u001B[39;00m packet\n",
      "File \u001B[0;32m/opt/anaconda3/lib/python3.11/site-packages/pymysql/protocol.py:219\u001B[0m, in \u001B[0;36mMysqlPacket.raise_for_error\u001B[0;34m(self)\u001B[0m\n\u001B[1;32m    217\u001B[0m \u001B[38;5;28;01mif\u001B[39;00m DEBUG:\n\u001B[1;32m    218\u001B[0m     \u001B[38;5;28mprint\u001B[39m(\u001B[38;5;124m\"\u001B[39m\u001B[38;5;124merrno =\u001B[39m\u001B[38;5;124m\"\u001B[39m, errno)\n\u001B[0;32m--> 219\u001B[0m err\u001B[38;5;241m.\u001B[39mraise_mysql_exception(\u001B[38;5;28mself\u001B[39m\u001B[38;5;241m.\u001B[39m_data)\n",
      "File \u001B[0;32m/opt/anaconda3/lib/python3.11/site-packages/pymysql/err.py:150\u001B[0m, in \u001B[0;36mraise_mysql_exception\u001B[0;34m(data)\u001B[0m\n\u001B[1;32m    148\u001B[0m \u001B[38;5;28;01mif\u001B[39;00m errorclass \u001B[38;5;129;01mis\u001B[39;00m \u001B[38;5;28;01mNone\u001B[39;00m:\n\u001B[1;32m    149\u001B[0m     errorclass \u001B[38;5;241m=\u001B[39m InternalError \u001B[38;5;28;01mif\u001B[39;00m errno \u001B[38;5;241m<\u001B[39m \u001B[38;5;241m1000\u001B[39m \u001B[38;5;28;01melse\u001B[39;00m OperationalError\n\u001B[0;32m--> 150\u001B[0m \u001B[38;5;28;01mraise\u001B[39;00m errorclass(errno, errval)\n",
      "\u001B[0;31mProgrammingError\u001B[0m: (pymysql.err.ProgrammingError) (1064, \"You have an error in your SQL syntax; check the manual that corresponds to your MySQL server version for the right syntax to use near 'CREATE TABLE IF NOT EXISTS location_table (\\n    locationID INTEGER AUTO_INCREMEN' at line 26\")\n[SQL: CREATE TABLE IF NOT EXISTS raw_table (\n    tripID INTEGER AUTO_INCREMENT PRIMARY KEY,\n    VendorID INTEGER,\n    create_time DATETIME DEFAULT CURRENT_TIMESTAMP,\n    tpep_pickup_datetime DATETIME,\n    tpep_dropoff_datetime DATETIME,\n    passenger_count INTEGER,\n    trip_distance FLOAT,\n    RateCodeID INTEGER,\n    store_and_fwd_flag TEXT,\n    payment_type INTEGER,\n    PULocationID INTEGER,\n    DOLocationID INTEGER,\n    fare_amount FLOAT,\n    extra FLOAT,\n    mta_tax FLOAT,\n    tip_amount FLOAT,\n    tolls_amount FLOAT,\n    improvement_surcharge FLOAT,\n    total_amount FLOAT,\n    trip_duration_min FLOAT,\n    congestion_surcharge FLOAT,\n    Airport_fee FLOAT\n);\n\nCREATE TABLE IF NOT EXISTS location_table (\n    locationID INTEGER AUTO_INCREMENT PRIMARY KEY,\n    location_name TEXT,\n    borough TEXT,\n    zone TEXT\n);\n]\n(Background on this error at: https://sqlalche.me/e/14/f405)"
     ]
    }
   ],
   "source": [
    "with engine.connect() as connection:\n",
    "    with open('create_table.sql', 'r') as file:\n",
    "        create_table_query = file.read()\n",
    "    connection.execute(text(create_table_query))"
   ],
   "metadata": {
    "collapsed": false,
    "ExecuteTime": {
     "end_time": "2024-08-06T21:34:44.184027Z",
     "start_time": "2024-08-06T21:34:44.079459Z"
    }
   },
   "id": "da5da6821878b00",
   "execution_count": 6
  },
  {
   "cell_type": "markdown",
   "source": [
    "# !CLEARS TABLE!"
   ],
   "metadata": {
    "collapsed": false
   },
   "id": "d164346dfcd56785"
  },
  {
   "cell_type": "code",
   "outputs": [
    {
     "ename": "ProgrammingError",
     "evalue": "(pymysql.err.ProgrammingError) (1064, \"You have an error in your SQL syntax; check the manual that corresponds to your MySQL server version for the right syntax to use near 'DROP TABLE location_table' at line 2\")\n[SQL: DROP TABLE raw_table;\nDROP TABLE location_table;]\n(Background on this error at: https://sqlalche.me/e/14/f405)",
     "output_type": "error",
     "traceback": [
      "\u001B[0;31m---------------------------------------------------------------------------\u001B[0m",
      "\u001B[0;31mProgrammingError\u001B[0m                          Traceback (most recent call last)",
      "File \u001B[0;32m/opt/anaconda3/lib/python3.11/site-packages/sqlalchemy/engine/base.py:1910\u001B[0m, in \u001B[0;36mConnection._execute_context\u001B[0;34m(self, dialect, constructor, statement, parameters, execution_options, *args, **kw)\u001B[0m\n\u001B[1;32m   1909\u001B[0m     \u001B[38;5;28;01mif\u001B[39;00m \u001B[38;5;129;01mnot\u001B[39;00m evt_handled:\n\u001B[0;32m-> 1910\u001B[0m         \u001B[38;5;28mself\u001B[39m\u001B[38;5;241m.\u001B[39mdialect\u001B[38;5;241m.\u001B[39mdo_execute(\n\u001B[1;32m   1911\u001B[0m             cursor, statement, parameters, context\n\u001B[1;32m   1912\u001B[0m         )\n\u001B[1;32m   1914\u001B[0m \u001B[38;5;28;01mif\u001B[39;00m \u001B[38;5;28mself\u001B[39m\u001B[38;5;241m.\u001B[39m_has_events \u001B[38;5;129;01mor\u001B[39;00m \u001B[38;5;28mself\u001B[39m\u001B[38;5;241m.\u001B[39mengine\u001B[38;5;241m.\u001B[39m_has_events:\n",
      "File \u001B[0;32m/opt/anaconda3/lib/python3.11/site-packages/sqlalchemy/engine/default.py:736\u001B[0m, in \u001B[0;36mDefaultDialect.do_execute\u001B[0;34m(self, cursor, statement, parameters, context)\u001B[0m\n\u001B[1;32m    735\u001B[0m \u001B[38;5;28;01mdef\u001B[39;00m \u001B[38;5;21mdo_execute\u001B[39m(\u001B[38;5;28mself\u001B[39m, cursor, statement, parameters, context\u001B[38;5;241m=\u001B[39m\u001B[38;5;28;01mNone\u001B[39;00m):\n\u001B[0;32m--> 736\u001B[0m     cursor\u001B[38;5;241m.\u001B[39mexecute(statement, parameters)\n",
      "File \u001B[0;32m/opt/anaconda3/lib/python3.11/site-packages/pymysql/cursors.py:153\u001B[0m, in \u001B[0;36mCursor.execute\u001B[0;34m(self, query, args)\u001B[0m\n\u001B[1;32m    151\u001B[0m query \u001B[38;5;241m=\u001B[39m \u001B[38;5;28mself\u001B[39m\u001B[38;5;241m.\u001B[39mmogrify(query, args)\n\u001B[0;32m--> 153\u001B[0m result \u001B[38;5;241m=\u001B[39m \u001B[38;5;28mself\u001B[39m\u001B[38;5;241m.\u001B[39m_query(query)\n\u001B[1;32m    154\u001B[0m \u001B[38;5;28mself\u001B[39m\u001B[38;5;241m.\u001B[39m_executed \u001B[38;5;241m=\u001B[39m query\n",
      "File \u001B[0;32m/opt/anaconda3/lib/python3.11/site-packages/pymysql/cursors.py:322\u001B[0m, in \u001B[0;36mCursor._query\u001B[0;34m(self, q)\u001B[0m\n\u001B[1;32m    321\u001B[0m \u001B[38;5;28mself\u001B[39m\u001B[38;5;241m.\u001B[39m_clear_result()\n\u001B[0;32m--> 322\u001B[0m conn\u001B[38;5;241m.\u001B[39mquery(q)\n\u001B[1;32m    323\u001B[0m \u001B[38;5;28mself\u001B[39m\u001B[38;5;241m.\u001B[39m_do_get_result()\n",
      "File \u001B[0;32m/opt/anaconda3/lib/python3.11/site-packages/pymysql/connections.py:563\u001B[0m, in \u001B[0;36mConnection.query\u001B[0;34m(self, sql, unbuffered)\u001B[0m\n\u001B[1;32m    562\u001B[0m \u001B[38;5;28mself\u001B[39m\u001B[38;5;241m.\u001B[39m_execute_command(COMMAND\u001B[38;5;241m.\u001B[39mCOM_QUERY, sql)\n\u001B[0;32m--> 563\u001B[0m \u001B[38;5;28mself\u001B[39m\u001B[38;5;241m.\u001B[39m_affected_rows \u001B[38;5;241m=\u001B[39m \u001B[38;5;28mself\u001B[39m\u001B[38;5;241m.\u001B[39m_read_query_result(unbuffered\u001B[38;5;241m=\u001B[39munbuffered)\n\u001B[1;32m    564\u001B[0m \u001B[38;5;28;01mreturn\u001B[39;00m \u001B[38;5;28mself\u001B[39m\u001B[38;5;241m.\u001B[39m_affected_rows\n",
      "File \u001B[0;32m/opt/anaconda3/lib/python3.11/site-packages/pymysql/connections.py:825\u001B[0m, in \u001B[0;36mConnection._read_query_result\u001B[0;34m(self, unbuffered)\u001B[0m\n\u001B[1;32m    824\u001B[0m     result \u001B[38;5;241m=\u001B[39m MySQLResult(\u001B[38;5;28mself\u001B[39m)\n\u001B[0;32m--> 825\u001B[0m     result\u001B[38;5;241m.\u001B[39mread()\n\u001B[1;32m    826\u001B[0m \u001B[38;5;28mself\u001B[39m\u001B[38;5;241m.\u001B[39m_result \u001B[38;5;241m=\u001B[39m result\n",
      "File \u001B[0;32m/opt/anaconda3/lib/python3.11/site-packages/pymysql/connections.py:1199\u001B[0m, in \u001B[0;36mMySQLResult.read\u001B[0;34m(self)\u001B[0m\n\u001B[1;32m   1198\u001B[0m \u001B[38;5;28;01mtry\u001B[39;00m:\n\u001B[0;32m-> 1199\u001B[0m     first_packet \u001B[38;5;241m=\u001B[39m \u001B[38;5;28mself\u001B[39m\u001B[38;5;241m.\u001B[39mconnection\u001B[38;5;241m.\u001B[39m_read_packet()\n\u001B[1;32m   1201\u001B[0m     \u001B[38;5;28;01mif\u001B[39;00m first_packet\u001B[38;5;241m.\u001B[39mis_ok_packet():\n",
      "File \u001B[0;32m/opt/anaconda3/lib/python3.11/site-packages/pymysql/connections.py:775\u001B[0m, in \u001B[0;36mConnection._read_packet\u001B[0;34m(self, packet_type)\u001B[0m\n\u001B[1;32m    774\u001B[0m         \u001B[38;5;28mself\u001B[39m\u001B[38;5;241m.\u001B[39m_result\u001B[38;5;241m.\u001B[39munbuffered_active \u001B[38;5;241m=\u001B[39m \u001B[38;5;28;01mFalse\u001B[39;00m\n\u001B[0;32m--> 775\u001B[0m     packet\u001B[38;5;241m.\u001B[39mraise_for_error()\n\u001B[1;32m    776\u001B[0m \u001B[38;5;28;01mreturn\u001B[39;00m packet\n",
      "File \u001B[0;32m/opt/anaconda3/lib/python3.11/site-packages/pymysql/protocol.py:219\u001B[0m, in \u001B[0;36mMysqlPacket.raise_for_error\u001B[0;34m(self)\u001B[0m\n\u001B[1;32m    218\u001B[0m     \u001B[38;5;28mprint\u001B[39m(\u001B[38;5;124m\"\u001B[39m\u001B[38;5;124merrno =\u001B[39m\u001B[38;5;124m\"\u001B[39m, errno)\n\u001B[0;32m--> 219\u001B[0m err\u001B[38;5;241m.\u001B[39mraise_mysql_exception(\u001B[38;5;28mself\u001B[39m\u001B[38;5;241m.\u001B[39m_data)\n",
      "File \u001B[0;32m/opt/anaconda3/lib/python3.11/site-packages/pymysql/err.py:150\u001B[0m, in \u001B[0;36mraise_mysql_exception\u001B[0;34m(data)\u001B[0m\n\u001B[1;32m    149\u001B[0m     errorclass \u001B[38;5;241m=\u001B[39m InternalError \u001B[38;5;28;01mif\u001B[39;00m errno \u001B[38;5;241m<\u001B[39m \u001B[38;5;241m1000\u001B[39m \u001B[38;5;28;01melse\u001B[39;00m OperationalError\n\u001B[0;32m--> 150\u001B[0m \u001B[38;5;28;01mraise\u001B[39;00m errorclass(errno, errval)\n",
      "\u001B[0;31mProgrammingError\u001B[0m: (1064, \"You have an error in your SQL syntax; check the manual that corresponds to your MySQL server version for the right syntax to use near 'DROP TABLE location_table' at line 2\")",
      "\nThe above exception was the direct cause of the following exception:\n",
      "\u001B[0;31mProgrammingError\u001B[0m                          Traceback (most recent call last)",
      "Cell \u001B[0;32mIn[5], line 4\u001B[0m\n\u001B[1;32m      2\u001B[0m \u001B[38;5;28;01mwith\u001B[39;00m \u001B[38;5;28mopen\u001B[39m(\u001B[38;5;124m'\u001B[39m\u001B[38;5;124mempty_table.sql\u001B[39m\u001B[38;5;124m'\u001B[39m, \u001B[38;5;124m'\u001B[39m\u001B[38;5;124mr\u001B[39m\u001B[38;5;124m'\u001B[39m) \u001B[38;5;28;01mas\u001B[39;00m file:\n\u001B[1;32m      3\u001B[0m     create_table_query \u001B[38;5;241m=\u001B[39m file\u001B[38;5;241m.\u001B[39mread()\n\u001B[0;32m----> 4\u001B[0m connection\u001B[38;5;241m.\u001B[39mexecute(text(create_table_query))\n",
      "File \u001B[0;32m/opt/anaconda3/lib/python3.11/site-packages/sqlalchemy/engine/base.py:1385\u001B[0m, in \u001B[0;36mConnection.execute\u001B[0;34m(self, statement, *multiparams, **params)\u001B[0m\n\u001B[1;32m   1381\u001B[0m     util\u001B[38;5;241m.\u001B[39mraise_(\n\u001B[1;32m   1382\u001B[0m         exc\u001B[38;5;241m.\u001B[39mObjectNotExecutableError(statement), replace_context\u001B[38;5;241m=\u001B[39merr\n\u001B[1;32m   1383\u001B[0m     )\n\u001B[1;32m   1384\u001B[0m \u001B[38;5;28;01melse\u001B[39;00m:\n\u001B[0;32m-> 1385\u001B[0m     \u001B[38;5;28;01mreturn\u001B[39;00m meth(\u001B[38;5;28mself\u001B[39m, multiparams, params, _EMPTY_EXECUTION_OPTS)\n",
      "File \u001B[0;32m/opt/anaconda3/lib/python3.11/site-packages/sqlalchemy/sql/elements.py:334\u001B[0m, in \u001B[0;36mClauseElement._execute_on_connection\u001B[0;34m(self, connection, multiparams, params, execution_options, _force)\u001B[0m\n\u001B[1;32m    330\u001B[0m \u001B[38;5;28;01mdef\u001B[39;00m \u001B[38;5;21m_execute_on_connection\u001B[39m(\n\u001B[1;32m    331\u001B[0m     \u001B[38;5;28mself\u001B[39m, connection, multiparams, params, execution_options, _force\u001B[38;5;241m=\u001B[39m\u001B[38;5;28;01mFalse\u001B[39;00m\n\u001B[1;32m    332\u001B[0m ):\n\u001B[1;32m    333\u001B[0m     \u001B[38;5;28;01mif\u001B[39;00m _force \u001B[38;5;129;01mor\u001B[39;00m \u001B[38;5;28mself\u001B[39m\u001B[38;5;241m.\u001B[39msupports_execution:\n\u001B[0;32m--> 334\u001B[0m         \u001B[38;5;28;01mreturn\u001B[39;00m connection\u001B[38;5;241m.\u001B[39m_execute_clauseelement(\n\u001B[1;32m    335\u001B[0m             \u001B[38;5;28mself\u001B[39m, multiparams, params, execution_options\n\u001B[1;32m    336\u001B[0m         )\n\u001B[1;32m    337\u001B[0m     \u001B[38;5;28;01melse\u001B[39;00m:\n\u001B[1;32m    338\u001B[0m         \u001B[38;5;28;01mraise\u001B[39;00m exc\u001B[38;5;241m.\u001B[39mObjectNotExecutableError(\u001B[38;5;28mself\u001B[39m)\n",
      "File \u001B[0;32m/opt/anaconda3/lib/python3.11/site-packages/sqlalchemy/engine/base.py:1577\u001B[0m, in \u001B[0;36mConnection._execute_clauseelement\u001B[0;34m(self, elem, multiparams, params, execution_options)\u001B[0m\n\u001B[1;32m   1565\u001B[0m compiled_cache \u001B[38;5;241m=\u001B[39m execution_options\u001B[38;5;241m.\u001B[39mget(\n\u001B[1;32m   1566\u001B[0m     \u001B[38;5;124m\"\u001B[39m\u001B[38;5;124mcompiled_cache\u001B[39m\u001B[38;5;124m\"\u001B[39m, \u001B[38;5;28mself\u001B[39m\u001B[38;5;241m.\u001B[39mengine\u001B[38;5;241m.\u001B[39m_compiled_cache\n\u001B[1;32m   1567\u001B[0m )\n\u001B[1;32m   1569\u001B[0m compiled_sql, extracted_params, cache_hit \u001B[38;5;241m=\u001B[39m elem\u001B[38;5;241m.\u001B[39m_compile_w_cache(\n\u001B[1;32m   1570\u001B[0m     dialect\u001B[38;5;241m=\u001B[39mdialect,\n\u001B[1;32m   1571\u001B[0m     compiled_cache\u001B[38;5;241m=\u001B[39mcompiled_cache,\n\u001B[0;32m   (...)\u001B[0m\n\u001B[1;32m   1575\u001B[0m     linting\u001B[38;5;241m=\u001B[39m\u001B[38;5;28mself\u001B[39m\u001B[38;5;241m.\u001B[39mdialect\u001B[38;5;241m.\u001B[39mcompiler_linting \u001B[38;5;241m|\u001B[39m compiler\u001B[38;5;241m.\u001B[39mWARN_LINTING,\n\u001B[1;32m   1576\u001B[0m )\n\u001B[0;32m-> 1577\u001B[0m ret \u001B[38;5;241m=\u001B[39m \u001B[38;5;28mself\u001B[39m\u001B[38;5;241m.\u001B[39m_execute_context(\n\u001B[1;32m   1578\u001B[0m     dialect,\n\u001B[1;32m   1579\u001B[0m     dialect\u001B[38;5;241m.\u001B[39mexecution_ctx_cls\u001B[38;5;241m.\u001B[39m_init_compiled,\n\u001B[1;32m   1580\u001B[0m     compiled_sql,\n\u001B[1;32m   1581\u001B[0m     distilled_params,\n\u001B[1;32m   1582\u001B[0m     execution_options,\n\u001B[1;32m   1583\u001B[0m     compiled_sql,\n\u001B[1;32m   1584\u001B[0m     distilled_params,\n\u001B[1;32m   1585\u001B[0m     elem,\n\u001B[1;32m   1586\u001B[0m     extracted_params,\n\u001B[1;32m   1587\u001B[0m     cache_hit\u001B[38;5;241m=\u001B[39mcache_hit,\n\u001B[1;32m   1588\u001B[0m )\n\u001B[1;32m   1589\u001B[0m \u001B[38;5;28;01mif\u001B[39;00m has_events:\n\u001B[1;32m   1590\u001B[0m     \u001B[38;5;28mself\u001B[39m\u001B[38;5;241m.\u001B[39mdispatch\u001B[38;5;241m.\u001B[39mafter_execute(\n\u001B[1;32m   1591\u001B[0m         \u001B[38;5;28mself\u001B[39m,\n\u001B[1;32m   1592\u001B[0m         elem,\n\u001B[0;32m   (...)\u001B[0m\n\u001B[1;32m   1596\u001B[0m         ret,\n\u001B[1;32m   1597\u001B[0m     )\n",
      "File \u001B[0;32m/opt/anaconda3/lib/python3.11/site-packages/sqlalchemy/engine/base.py:1953\u001B[0m, in \u001B[0;36mConnection._execute_context\u001B[0;34m(self, dialect, constructor, statement, parameters, execution_options, *args, **kw)\u001B[0m\n\u001B[1;32m   1950\u001B[0m             branched\u001B[38;5;241m.\u001B[39mclose()\n\u001B[1;32m   1952\u001B[0m \u001B[38;5;28;01mexcept\u001B[39;00m \u001B[38;5;167;01mBaseException\u001B[39;00m \u001B[38;5;28;01mas\u001B[39;00m e:\n\u001B[0;32m-> 1953\u001B[0m     \u001B[38;5;28mself\u001B[39m\u001B[38;5;241m.\u001B[39m_handle_dbapi_exception(\n\u001B[1;32m   1954\u001B[0m         e, statement, parameters, cursor, context\n\u001B[1;32m   1955\u001B[0m     )\n\u001B[1;32m   1957\u001B[0m \u001B[38;5;28;01mreturn\u001B[39;00m result\n",
      "File \u001B[0;32m/opt/anaconda3/lib/python3.11/site-packages/sqlalchemy/engine/base.py:2134\u001B[0m, in \u001B[0;36mConnection._handle_dbapi_exception\u001B[0;34m(self, e, statement, parameters, cursor, context)\u001B[0m\n\u001B[1;32m   2132\u001B[0m     util\u001B[38;5;241m.\u001B[39mraise_(newraise, with_traceback\u001B[38;5;241m=\u001B[39mexc_info[\u001B[38;5;241m2\u001B[39m], from_\u001B[38;5;241m=\u001B[39me)\n\u001B[1;32m   2133\u001B[0m \u001B[38;5;28;01melif\u001B[39;00m should_wrap:\n\u001B[0;32m-> 2134\u001B[0m     util\u001B[38;5;241m.\u001B[39mraise_(\n\u001B[1;32m   2135\u001B[0m         sqlalchemy_exception, with_traceback\u001B[38;5;241m=\u001B[39mexc_info[\u001B[38;5;241m2\u001B[39m], from_\u001B[38;5;241m=\u001B[39me\n\u001B[1;32m   2136\u001B[0m     )\n\u001B[1;32m   2137\u001B[0m \u001B[38;5;28;01melse\u001B[39;00m:\n\u001B[1;32m   2138\u001B[0m     util\u001B[38;5;241m.\u001B[39mraise_(exc_info[\u001B[38;5;241m1\u001B[39m], with_traceback\u001B[38;5;241m=\u001B[39mexc_info[\u001B[38;5;241m2\u001B[39m])\n",
      "File \u001B[0;32m/opt/anaconda3/lib/python3.11/site-packages/sqlalchemy/util/compat.py:211\u001B[0m, in \u001B[0;36mraise_\u001B[0;34m(***failed resolving arguments***)\u001B[0m\n\u001B[1;32m    208\u001B[0m     exception\u001B[38;5;241m.\u001B[39m__cause__ \u001B[38;5;241m=\u001B[39m replace_context\n\u001B[1;32m    210\u001B[0m \u001B[38;5;28;01mtry\u001B[39;00m:\n\u001B[0;32m--> 211\u001B[0m     \u001B[38;5;28;01mraise\u001B[39;00m exception\n\u001B[1;32m    212\u001B[0m \u001B[38;5;28;01mfinally\u001B[39;00m:\n\u001B[1;32m    213\u001B[0m     \u001B[38;5;66;03m# credit to\u001B[39;00m\n\u001B[1;32m    214\u001B[0m     \u001B[38;5;66;03m# https://cosmicpercolator.com/2016/01/13/exception-leaks-in-python-2-and-3/\u001B[39;00m\n\u001B[1;32m    215\u001B[0m     \u001B[38;5;66;03m# as the __traceback__ object creates a cycle\u001B[39;00m\n\u001B[1;32m    216\u001B[0m     \u001B[38;5;28;01mdel\u001B[39;00m exception, replace_context, from_, with_traceback\n",
      "File \u001B[0;32m/opt/anaconda3/lib/python3.11/site-packages/sqlalchemy/engine/base.py:1910\u001B[0m, in \u001B[0;36mConnection._execute_context\u001B[0;34m(self, dialect, constructor, statement, parameters, execution_options, *args, **kw)\u001B[0m\n\u001B[1;32m   1908\u001B[0m                 \u001B[38;5;28;01mbreak\u001B[39;00m\n\u001B[1;32m   1909\u001B[0m     \u001B[38;5;28;01mif\u001B[39;00m \u001B[38;5;129;01mnot\u001B[39;00m evt_handled:\n\u001B[0;32m-> 1910\u001B[0m         \u001B[38;5;28mself\u001B[39m\u001B[38;5;241m.\u001B[39mdialect\u001B[38;5;241m.\u001B[39mdo_execute(\n\u001B[1;32m   1911\u001B[0m             cursor, statement, parameters, context\n\u001B[1;32m   1912\u001B[0m         )\n\u001B[1;32m   1914\u001B[0m \u001B[38;5;28;01mif\u001B[39;00m \u001B[38;5;28mself\u001B[39m\u001B[38;5;241m.\u001B[39m_has_events \u001B[38;5;129;01mor\u001B[39;00m \u001B[38;5;28mself\u001B[39m\u001B[38;5;241m.\u001B[39mengine\u001B[38;5;241m.\u001B[39m_has_events:\n\u001B[1;32m   1915\u001B[0m     \u001B[38;5;28mself\u001B[39m\u001B[38;5;241m.\u001B[39mdispatch\u001B[38;5;241m.\u001B[39mafter_cursor_execute(\n\u001B[1;32m   1916\u001B[0m         \u001B[38;5;28mself\u001B[39m,\n\u001B[1;32m   1917\u001B[0m         cursor,\n\u001B[0;32m   (...)\u001B[0m\n\u001B[1;32m   1921\u001B[0m         context\u001B[38;5;241m.\u001B[39mexecutemany,\n\u001B[1;32m   1922\u001B[0m     )\n",
      "File \u001B[0;32m/opt/anaconda3/lib/python3.11/site-packages/sqlalchemy/engine/default.py:736\u001B[0m, in \u001B[0;36mDefaultDialect.do_execute\u001B[0;34m(self, cursor, statement, parameters, context)\u001B[0m\n\u001B[1;32m    735\u001B[0m \u001B[38;5;28;01mdef\u001B[39;00m \u001B[38;5;21mdo_execute\u001B[39m(\u001B[38;5;28mself\u001B[39m, cursor, statement, parameters, context\u001B[38;5;241m=\u001B[39m\u001B[38;5;28;01mNone\u001B[39;00m):\n\u001B[0;32m--> 736\u001B[0m     cursor\u001B[38;5;241m.\u001B[39mexecute(statement, parameters)\n",
      "File \u001B[0;32m/opt/anaconda3/lib/python3.11/site-packages/pymysql/cursors.py:153\u001B[0m, in \u001B[0;36mCursor.execute\u001B[0;34m(self, query, args)\u001B[0m\n\u001B[1;32m    149\u001B[0m     \u001B[38;5;28;01mpass\u001B[39;00m\n\u001B[1;32m    151\u001B[0m query \u001B[38;5;241m=\u001B[39m \u001B[38;5;28mself\u001B[39m\u001B[38;5;241m.\u001B[39mmogrify(query, args)\n\u001B[0;32m--> 153\u001B[0m result \u001B[38;5;241m=\u001B[39m \u001B[38;5;28mself\u001B[39m\u001B[38;5;241m.\u001B[39m_query(query)\n\u001B[1;32m    154\u001B[0m \u001B[38;5;28mself\u001B[39m\u001B[38;5;241m.\u001B[39m_executed \u001B[38;5;241m=\u001B[39m query\n\u001B[1;32m    155\u001B[0m \u001B[38;5;28;01mreturn\u001B[39;00m result\n",
      "File \u001B[0;32m/opt/anaconda3/lib/python3.11/site-packages/pymysql/cursors.py:322\u001B[0m, in \u001B[0;36mCursor._query\u001B[0;34m(self, q)\u001B[0m\n\u001B[1;32m    320\u001B[0m conn \u001B[38;5;241m=\u001B[39m \u001B[38;5;28mself\u001B[39m\u001B[38;5;241m.\u001B[39m_get_db()\n\u001B[1;32m    321\u001B[0m \u001B[38;5;28mself\u001B[39m\u001B[38;5;241m.\u001B[39m_clear_result()\n\u001B[0;32m--> 322\u001B[0m conn\u001B[38;5;241m.\u001B[39mquery(q)\n\u001B[1;32m    323\u001B[0m \u001B[38;5;28mself\u001B[39m\u001B[38;5;241m.\u001B[39m_do_get_result()\n\u001B[1;32m    324\u001B[0m \u001B[38;5;28;01mreturn\u001B[39;00m \u001B[38;5;28mself\u001B[39m\u001B[38;5;241m.\u001B[39mrowcount\n",
      "File \u001B[0;32m/opt/anaconda3/lib/python3.11/site-packages/pymysql/connections.py:563\u001B[0m, in \u001B[0;36mConnection.query\u001B[0;34m(self, sql, unbuffered)\u001B[0m\n\u001B[1;32m    561\u001B[0m     sql \u001B[38;5;241m=\u001B[39m sql\u001B[38;5;241m.\u001B[39mencode(\u001B[38;5;28mself\u001B[39m\u001B[38;5;241m.\u001B[39mencoding, \u001B[38;5;124m\"\u001B[39m\u001B[38;5;124msurrogateescape\u001B[39m\u001B[38;5;124m\"\u001B[39m)\n\u001B[1;32m    562\u001B[0m \u001B[38;5;28mself\u001B[39m\u001B[38;5;241m.\u001B[39m_execute_command(COMMAND\u001B[38;5;241m.\u001B[39mCOM_QUERY, sql)\n\u001B[0;32m--> 563\u001B[0m \u001B[38;5;28mself\u001B[39m\u001B[38;5;241m.\u001B[39m_affected_rows \u001B[38;5;241m=\u001B[39m \u001B[38;5;28mself\u001B[39m\u001B[38;5;241m.\u001B[39m_read_query_result(unbuffered\u001B[38;5;241m=\u001B[39munbuffered)\n\u001B[1;32m    564\u001B[0m \u001B[38;5;28;01mreturn\u001B[39;00m \u001B[38;5;28mself\u001B[39m\u001B[38;5;241m.\u001B[39m_affected_rows\n",
      "File \u001B[0;32m/opt/anaconda3/lib/python3.11/site-packages/pymysql/connections.py:825\u001B[0m, in \u001B[0;36mConnection._read_query_result\u001B[0;34m(self, unbuffered)\u001B[0m\n\u001B[1;32m    823\u001B[0m \u001B[38;5;28;01melse\u001B[39;00m:\n\u001B[1;32m    824\u001B[0m     result \u001B[38;5;241m=\u001B[39m MySQLResult(\u001B[38;5;28mself\u001B[39m)\n\u001B[0;32m--> 825\u001B[0m     result\u001B[38;5;241m.\u001B[39mread()\n\u001B[1;32m    826\u001B[0m \u001B[38;5;28mself\u001B[39m\u001B[38;5;241m.\u001B[39m_result \u001B[38;5;241m=\u001B[39m result\n\u001B[1;32m    827\u001B[0m \u001B[38;5;28;01mif\u001B[39;00m result\u001B[38;5;241m.\u001B[39mserver_status \u001B[38;5;129;01mis\u001B[39;00m \u001B[38;5;129;01mnot\u001B[39;00m \u001B[38;5;28;01mNone\u001B[39;00m:\n",
      "File \u001B[0;32m/opt/anaconda3/lib/python3.11/site-packages/pymysql/connections.py:1199\u001B[0m, in \u001B[0;36mMySQLResult.read\u001B[0;34m(self)\u001B[0m\n\u001B[1;32m   1197\u001B[0m \u001B[38;5;28;01mdef\u001B[39;00m \u001B[38;5;21mread\u001B[39m(\u001B[38;5;28mself\u001B[39m):\n\u001B[1;32m   1198\u001B[0m     \u001B[38;5;28;01mtry\u001B[39;00m:\n\u001B[0;32m-> 1199\u001B[0m         first_packet \u001B[38;5;241m=\u001B[39m \u001B[38;5;28mself\u001B[39m\u001B[38;5;241m.\u001B[39mconnection\u001B[38;5;241m.\u001B[39m_read_packet()\n\u001B[1;32m   1201\u001B[0m         \u001B[38;5;28;01mif\u001B[39;00m first_packet\u001B[38;5;241m.\u001B[39mis_ok_packet():\n\u001B[1;32m   1202\u001B[0m             \u001B[38;5;28mself\u001B[39m\u001B[38;5;241m.\u001B[39m_read_ok_packet(first_packet)\n",
      "File \u001B[0;32m/opt/anaconda3/lib/python3.11/site-packages/pymysql/connections.py:775\u001B[0m, in \u001B[0;36mConnection._read_packet\u001B[0;34m(self, packet_type)\u001B[0m\n\u001B[1;32m    773\u001B[0m     \u001B[38;5;28;01mif\u001B[39;00m \u001B[38;5;28mself\u001B[39m\u001B[38;5;241m.\u001B[39m_result \u001B[38;5;129;01mis\u001B[39;00m \u001B[38;5;129;01mnot\u001B[39;00m \u001B[38;5;28;01mNone\u001B[39;00m \u001B[38;5;129;01mand\u001B[39;00m \u001B[38;5;28mself\u001B[39m\u001B[38;5;241m.\u001B[39m_result\u001B[38;5;241m.\u001B[39munbuffered_active \u001B[38;5;129;01mis\u001B[39;00m \u001B[38;5;28;01mTrue\u001B[39;00m:\n\u001B[1;32m    774\u001B[0m         \u001B[38;5;28mself\u001B[39m\u001B[38;5;241m.\u001B[39m_result\u001B[38;5;241m.\u001B[39munbuffered_active \u001B[38;5;241m=\u001B[39m \u001B[38;5;28;01mFalse\u001B[39;00m\n\u001B[0;32m--> 775\u001B[0m     packet\u001B[38;5;241m.\u001B[39mraise_for_error()\n\u001B[1;32m    776\u001B[0m \u001B[38;5;28;01mreturn\u001B[39;00m packet\n",
      "File \u001B[0;32m/opt/anaconda3/lib/python3.11/site-packages/pymysql/protocol.py:219\u001B[0m, in \u001B[0;36mMysqlPacket.raise_for_error\u001B[0;34m(self)\u001B[0m\n\u001B[1;32m    217\u001B[0m \u001B[38;5;28;01mif\u001B[39;00m DEBUG:\n\u001B[1;32m    218\u001B[0m     \u001B[38;5;28mprint\u001B[39m(\u001B[38;5;124m\"\u001B[39m\u001B[38;5;124merrno =\u001B[39m\u001B[38;5;124m\"\u001B[39m, errno)\n\u001B[0;32m--> 219\u001B[0m err\u001B[38;5;241m.\u001B[39mraise_mysql_exception(\u001B[38;5;28mself\u001B[39m\u001B[38;5;241m.\u001B[39m_data)\n",
      "File \u001B[0;32m/opt/anaconda3/lib/python3.11/site-packages/pymysql/err.py:150\u001B[0m, in \u001B[0;36mraise_mysql_exception\u001B[0;34m(data)\u001B[0m\n\u001B[1;32m    148\u001B[0m \u001B[38;5;28;01mif\u001B[39;00m errorclass \u001B[38;5;129;01mis\u001B[39;00m \u001B[38;5;28;01mNone\u001B[39;00m:\n\u001B[1;32m    149\u001B[0m     errorclass \u001B[38;5;241m=\u001B[39m InternalError \u001B[38;5;28;01mif\u001B[39;00m errno \u001B[38;5;241m<\u001B[39m \u001B[38;5;241m1000\u001B[39m \u001B[38;5;28;01melse\u001B[39;00m OperationalError\n\u001B[0;32m--> 150\u001B[0m \u001B[38;5;28;01mraise\u001B[39;00m errorclass(errno, errval)\n",
      "\u001B[0;31mProgrammingError\u001B[0m: (pymysql.err.ProgrammingError) (1064, \"You have an error in your SQL syntax; check the manual that corresponds to your MySQL server version for the right syntax to use near 'DROP TABLE location_table' at line 2\")\n[SQL: DROP TABLE raw_table;\nDROP TABLE location_table;]\n(Background on this error at: https://sqlalche.me/e/14/f405)"
     ]
    }
   ],
   "source": [
    "with engine.connect() as connection:\n",
    "    with open('empty_table.sql', 'r') as file:\n",
    "        create_table_query = file.read()\n",
    "    connection.execute(text(create_table_query))"
   ],
   "metadata": {
    "collapsed": false,
    "ExecuteTime": {
     "end_time": "2024-08-06T21:34:24.936022Z",
     "start_time": "2024-08-06T21:34:24.818648Z"
    }
   },
   "id": "c69c94c194707fc0",
   "execution_count": 5
  },
  {
   "cell_type": "markdown",
   "source": [
    "### Load .parquet into a DataFrame"
   ],
   "metadata": {
    "collapsed": false
   },
   "id": "7831d256d299bca7"
  },
  {
   "cell_type": "code",
   "outputs": [
    {
     "name": "stdout",
     "output_type": "stream",
     "text": [
      "   VendorID tpep_pickup_datetime tpep_dropoff_datetime  passenger_count  \\\n",
      "0         1  2024-05-01 00:59:15   2024-05-01 01:23:50              1.0   \n",
      "1         2  2024-04-30 23:58:26   2024-05-01 00:29:42              1.0   \n",
      "2         2  2024-05-01 00:57:17   2024-05-01 01:14:15              1.0   \n",
      "3         2  2024-05-01 00:24:47   2024-05-01 00:48:51              1.0   \n",
      "4         2  2024-05-01 00:11:20   2024-05-01 00:52:10              1.0   \n",
      "\n",
      "   trip_distance  RatecodeID store_and_fwd_flag  PULocationID  DOLocationID  \\\n",
      "0           6.10         1.0                  N           138           145   \n",
      "1          11.23         1.0                  N           138           249   \n",
      "2           9.02         1.0                  N           138           170   \n",
      "3           6.53         1.0                  N            87           133   \n",
      "4          14.38         1.0                  N           161           165   \n",
      "\n",
      "   payment_type  fare_amount  extra  mta_tax  tip_amount  tolls_amount  \\\n",
      "0             1         28.2   7.75      0.5        5.00          0.00   \n",
      "1             1         46.4   6.00      0.5        8.72          0.00   \n",
      "2             1         35.9   6.00      0.5       10.57          6.94   \n",
      "3             1         30.3   1.00      0.5        7.06          0.00   \n",
      "4             1         61.8   1.00      0.5        0.00          0.00   \n",
      "\n",
      "   improvement_surcharge  total_amount  congestion_surcharge  Airport_fee  \n",
      "0                    1.0         42.45                   0.0         1.75  \n",
      "1                    1.0         66.87                   2.5         1.75  \n",
      "2                    1.0         65.16                   2.5         1.75  \n",
      "3                    1.0         42.36                   2.5         0.00  \n",
      "4                    1.0         66.80                   2.5         0.00  \n"
     ]
    },
    {
     "data": {
      "text/plain": "3723833"
     },
     "execution_count": 13,
     "metadata": {},
     "output_type": "execute_result"
    }
   ],
   "source": [
    "# Step 3: Read the Parquet file using pyarrow\n",
    "trips = pq.read_table('csvs/yellow_tripdata_2024-05.parquet')\n",
    "df = trips.to_pandas()\n",
    "\n",
    "print(df.head())\n",
    "# # Step 4: Insert data into the table\n",
    "df.to_sql('staging', con=engine, if_exists='append', index=False)"
   ],
   "metadata": {
    "collapsed": false,
    "ExecuteTime": {
     "end_time": "2024-08-06T22:22:10.450107Z",
     "start_time": "2024-08-06T22:17:42.790497Z"
    }
   },
   "id": "7015d1da202506be",
   "execution_count": 13
  },
  {
   "cell_type": "markdown",
   "source": [
    "### Load .csv into a DataFrame  "
   ],
   "metadata": {
    "collapsed": false
   },
   "id": "7050f875d288e117"
  },
  {
   "cell_type": "code",
   "outputs": [
    {
     "data": {
      "text/plain": "265"
     },
     "execution_count": 10,
     "metadata": {},
     "output_type": "execute_result"
    }
   ],
   "source": [
    "location_csv = 'csvs/taxi_zone_lookup.csv'\n",
    "df_location = pd.read_csv(location_csv)\n",
    "\n",
    "df_location.to_sql('location_table', con=engine, if_exists='append', index=False)"
   ],
   "metadata": {
    "collapsed": false,
    "ExecuteTime": {
     "end_time": "2024-08-06T21:59:39.813016Z",
     "start_time": "2024-08-06T21:59:39.742582Z"
    }
   },
   "id": "bcae91e4355681dc",
   "execution_count": 10
  },
  {
   "cell_type": "markdown",
   "source": [
    "### Run ETL"
   ],
   "metadata": {
    "collapsed": false
   },
   "id": "d15f7d59d960ff24"
  },
  {
   "cell_type": "code",
   "outputs": [],
   "source": [
    "with engine.connect() as connection:\n",
    "    with open('etl.sql', 'r') as file:\n",
    "        etl_query = file.read()\n",
    "    connection.execute(text(etl_query))"
   ],
   "metadata": {
    "collapsed": false
   },
   "id": "164c9f52b7eee61c"
  }
 ],
 "metadata": {
  "kernelspec": {
   "display_name": "Python 3",
   "language": "python",
   "name": "python3"
  },
  "language_info": {
   "codemirror_mode": {
    "name": "ipython",
    "version": 2
   },
   "file_extension": ".py",
   "mimetype": "text/x-python",
   "name": "python",
   "nbconvert_exporter": "python",
   "pygments_lexer": "ipython2",
   "version": "2.7.6"
  }
 },
 "nbformat": 4,
 "nbformat_minor": 5
}
